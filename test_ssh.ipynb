{
 "cells": [
  {
   "cell_type": "code",
   "execution_count": 13,
   "metadata": {},
   "outputs": [
    {
     "name": "stdout",
     "output_type": "stream",
     "text": [
      "['010 C5N', '704 - TBS', '4100 - TVN Chile', '020 Fox Sports Premium', '021 TNT Sports', '4104 - Fox Sports 3', '001 FOX SPORTS 2', '410 - Cinemax', '002 Argentinisima', '703 - ESPN 3', '803 - La Nacion', '3706 Golf Channel HD', 'Somos La Plata HD', 'IP Platense', 'ION_DIGO/ BATV LP', 'ION_C Universidad', '1700 Discovery Kids HD', '1701 Cinemax HD', '1702 La Nacion HD ENC52', '1703 Magazine HD', '1704 Mas Chic HD', '1705 Star Fun HD', '1706 History 2 HD', '1707 HBO Family HD', '709 - C5N', '03 - Canal 13 Satelital', '05 - Telefe Satelital', '700 - Fox Soprts 2', '003 EUROCHANNEL', '1700 - DISCOVERY KIDS', '1701 - FILMARTS', '1702 - AMERICA 2 BS. AS.', '1703 - DISNEY XD', 'RM03 Nuevos Clasicos', 'RM01 Top 40', '1706 - C. ESTRELLAS', '1707 - HTV', '1708 - RAI', '1709 - TLC', '1710 - TNT', '1711 - VH1', '1712 - EL GARAGE', '1713 - TYC SPORTS', 'X2 0900 - FX', 'X2 0901 - CARTOON NETWORK', 'X2 0902 - VOLVER', 'RM01 Top 40', 'X2 0904 - TCM', 'X2 0905 - PLACA CANAL 1', 'X2 0906 - CANAL 7', 'X2 0907 - FOX LIFE', 'X2 0908 - GLITZ', 'X2 0909 - UNIVERSAL', 'X2 0910 - COMEDY CENTRAL', 'X2 0911 - A3 SERIES', 'X2 0912 - HOLA TV', 'X2 0913 - BANDEIRANTES', 'X2 0914 - CANAL U', 'X2 0915 - TELEMAX', '1500 - BOOMERANG', '1501 - CANAL 9', '1502 - ESPN', '1503 - TVE', '1504 - SONY', '1505 - FOX SPORTS', '1506 - CRONICA TV', '1507 - MUCHMUSIC', '1508 - CANAL RURAL', '1509 - I-SAT', '1510 - CINEAR', '1511 - PAKA PAKA', '1512 - ESPN+ SD', '1513 - Pasiones', '1514 - France 24 ESP FLOW', '3000 Paramount', '3001 Fox Argentina', '3002 Nick Jr', '3003 EWTN', 'Barker @TV', '3005 Fox News', 'Barker VoD', '3007 AMC', '3008 FX Movies', 'CNN Radio- Openheadend', '3010 Nat Geo', '3011 Cinecanal', '3012 PX Sports', 'Radio Mitre', 'FM100', 'Radio del Plata Openheadend', 'MitreCBA', 'Radio Rivadavia OpenHeadend', 'Radio Nacional', 'Radio Disney', 'RFI', '001 FOX SPORTS 2', '2900 C5N HD', '2901 NBA TV HD', '2902 ENCUENTRO HD', '2903 METRO HD', '2904 NICK JR HD', '2905 CNN ESP HD', '2906 STUDIO UNIVERSAL HD', '2907 Entrevistas Lolla', 'ENC02.JMA1-AMERICA.INT', '1400 - 26 TV', '1401 - ENTERTAINMENT', '1402 - ID', '1403 - TN', '1404 - SUN CHANNEL', '1405 - DISNEY', '1406 - HISTORY CHANNEL', '1407 - ANIMAL PLANET', '1408 - DISNEY JUNIOR', '1409 - CH9 Interior', '1410 - Diputados TV', '1411 - TELEMUNDO', 'RM02 Top Europa', 'RM03 Nuevos Clasicos', 'RM04 90 Internacional', '050 Canal de la Ciudad', 'RM01 Top 40', '052 Zonal Norte', '054 Zonal Sur', '055 Zonal Oeste', 'Barker ISDBT OH Main', 'Barker ISDBT OH Main', '5202 - Red Record (UY)', '5203 - Canal Vasco (UY)', '5205 - TyC Sports (UY)', 'TNT HD Flow URU', 'FOX SPORTS 2 HD URU IRD', '1600 - EL TRECE', '1601 - NICKELODEON', '1602 - EL GOURMET', '1603 - AE', '1604 - CINECANAL', '1605 - SENAL MARIA', '1606 - GALICIA TV', '1607 - TNT SERIES', '1608 - DISCOVERY', '1609 - CANAL A', '1610 - NET TV', '1611 - LA NACION', 'RM03 Nuevos Clasicos', 'RM04 90 Internacional', 'RM05 80 Internacional', '1000 - QUIERO', '1001 - STUDIO UNIVERSAL', '1002 - TRU TV', '1003 - AXN', '1004 - C. DE LA MUSICA', '1005 - TELEFE', '1006 - FRANCE 24', '1007 - DISCOVERY HH', '1008 - WARNER CHANNEL', '1009 - MAGAZINE', '1010 - ESPN 2', '1011 - MTV', '1012 - METRO PAIS', '1013 - ENCUENTRO', '1014 - SPACE', '1200 - ALLEGRO', '1201 - CANAL 90', '1202 - NUEVA IMAGEN', '1203 - ARIRANG TV', '1204 - ANTENA 3', '1205 - VIAJAR', '1206 - EURONEWS', '1207 - AL JAZEERA', '1208 - AMERICA SPORTS', '1209 - KZO', '1210 - CANAL 21', '1211 - EUROPA EUROPA', '1212 - CNN EN ESP.', '1213 - LIFETIME', '1214 - A24', 'America Interior', 'Canal Luz', 'Santa Fe Canal', 'Somos La Pampa HD', 'Barker ISDBT OH Bkp', 'Esuperliga-OPEN', 'Canal 8 Tucuman HD', 'Canal12 Uruguay', 'C4_Uruguay', 'Canal 10 de Uruguay', 'Canal 10 de Tucuman - encoder X2', '5004 Eventos PY', 'Vorterix HD NEW', '5007 Servicio Test', '0900 Telefe HD', '0901 Canal 13 HD', '0902 Disney HD', '0903 PAKA PAKA', '0904 Manijomio', '0905 KZO HD', 'RM02 Top Europa', 'RM03 Nuevos Clasicos', 'HBO', 'HBO 2', 'HBO+', 'Disc Science SPA HD', 'Max Este', 'Max up', 'Max Prime E', 'Civilization SPA HD', 'HBO Familiy E', 'HBO Signature', 'Cinemax', 'RM01 Top 40', 'RM02 Top Europa', 'RM03 Nuevos Clasicos', 'RM04 90 Internacional', 'RM05 80 Internacional', 'RM06 80 90 Internacional', 'RM07 70 Internacional', 'RM08 60 Internacional', 'RM09 50 Internacional', '1000 Star Action HD', '1001 Discovery HD', '1002 Flow Music XP', '1003 FX Movies HD', '1004 Nick HD', '1005 Discovery HH HD', '1006 Fox Sports PR HD', '1007 Food Network HD', 'Radio Mitre', 'Barker ISDBT OH Main', 'Radio Blue', '0900 Telefe HD', '0901 Canal 13 HD', '0902 Disney HD', '1600 - TNT HD', '1601 - SONY HD', '1602 - HISTORY HD', '1603 - FOX SPORTS 3 HD', '1711 - MTV 00', '4100 - TVN Chile', 'RM01 Top 40', '4102 - Bloomberg', '4103 - NBA', '4104 - Fox Sports 3', '4105 - Golf', '4106 - TV 5', 'RM01 Top 40', '600 - Mas Chic', '601 - Wobi', '602 - History 2', '603 - Investigacion Periodistica', '604 - MTV Hits', '605 - VH1 Megahits', '606 - CNN Internacional', '607 - BBC World', '608 - DW Amerika', '609 - PY UCL', 'RM02 Top Europa', 'RM19 Heavy Metal', 'RM20 Rock Alternativo', 'RM21 Power Ballads', 'RM22 New Wave', 'RM23 Reggae', 'RM24 Peliculas', 'RM25 Classic Cinema', 'RM26 Romantica', 'RM27 Lentos', 'Radio Continental', 'RM10  Grandes Cantantes', 'RM11 Ellos', 'RM12 Ellas', 'RM13 Vivo', 'RM14 Disco', 'RM15 New Party Radio', 'RM16 Retro Mix', 'RM17 Rock Nacional', 'RM18 Grandes del Rock', 'Program 10000 Avalos', '700 - Fox Soprts 2', '701 - Argentinisima', '702 - Eurochannel', '703 - ESPN 3', '704 - TBS', '705 - Food Networks', '706 - Natgeo Wild', '707 - SyFy', '708 - Tooncast', '709 - C5N', 'RM19 Heavy Metal', 'RM28 Teens', 'RM29 Reggaeton', 'RM30 Reggaeton Romantico', 'RM31 Latino', 'RM32 Letras y Canciones', 'RM33 Salsa', 'RM34 MPB', 'RM35 Bossa', 'RM36 Axe', 'Program 10000 Quilmes', 'Program 1000 La Plata', '1100 ESPN 3 HD', '1101 Star Channel HD', '1102 Natgeo Wild HD', '1103 Universal HD', '1104 NAT GEO HD', '1105 Tru TV HD', '1106 TNT Sports HD', '1107 A3 Series HD', 'Program 10000 Cordoba', '1200 Eventos HD', '1201 Canal 7 HD', '1202 QM HD', '1203 America HD', '1204 DeporTV HD', '1205 TN HD', '1206 ID HD', '1207 Star Life HD', '1300 Eventos 601 HD', '1301 Canal 9 HD', '1302 Canal 26 HD', '1303 Canal A HD', '1304 ESPN NEW HD', '1305 ESPN 2 NEW HD', '1306 Cronica TV HD', '1307 Animal Planet HD', '1400 Disc WORLD HD', '1401 Star Hits HD', '1402 ESPN EXTRA HD', '1403 AMC HD', '1404 Star Series E HD', '1405 FX HD', '1406 Comedy Central HD', '1407 Europa Europa HD', '1500 - MTV HD', '1501 - AXN HD', '1502 - HBO MUNDI HD', '1503 - HBO XTREME HD', '1504 - RAI HD', '1505 - SPACE HD', '1506 - DISNEY JR HD', '1507 PX Sports HD', 'RM04 90 Internacional', 'RM06 80 90 Internacional', '1600 - TNT HD', '1601 - SONY HD', '1602 - HISTORY HD', '1603 - FOX SPORTS 3 HD', '1604 - WARNER HD', '1605 - CINECANAL HD', '1606 - PARAMOUNT HD', '1607 - INVESTIGACION PERIODISTICA', '3100 Somos AMBA HD', '3101 Canal de la Ciudad HD', '3102 TLC HD', '3103 Gourmet HD', '3104 TBS HD', '3105 FilmArts HD', '3106 Diputados HD', '3107 Telemundo HD', '4000 Cartoon HD', '4001 Fox Sports HD', '4002 Disc Theater HD', '4003 TNT Series HD', '4004 AE HD', '4005 HBO HD', '4006 El Garage HD', '4007 E! HD', '1513 - Pasiones', '3700 TyC Sports HD', '3701 America 24 HD', '3702 CINE.AR HD', '3703 ALLEGRO HD', '3704 HOLA TV HD', '3705 HBO 2 HD', '3706 GOLF CHANNEL HD', '3707 Net TV HD', '3900 Fox Sports 2 HD', '3901 Max UP', '3902 FOX COMEDY', '3903 Boomerang', '3904 Discovery Turbo HD', '3905 FOX CINEMA', '3906 Disney XD HD', '3907 Escenario Lolla', 'Program 40', 'Program 30', 'Program 32', 'Program 33', 'Program 34', 'Program 36', 'Program 37', 'Program 39', 'Program 31', 'Program 38', 'RM01 Top 40', '017 Playboy', '803 - La Nacion', '019 Telesur', '020 Fox Sports Premium', '021 TNT Sports', '022 DeporTV', '023 Sextreme', '024 Venus', 'RM37 Jazz', 'RM38 Smooth Jazz', 'RM39 Chill Out', 'RM40 Chill Africa', 'RM41 Electronica', 'RM42 Trendy', 'RM43 Lounge', 'RM44 Blend', 'RM45 New Age', 'RM46 Tango', 'RM47 Tango Electronico', 'RM48 Clasica', 'RM49 Opera', 'RM50 Opera Romantica', 'Program 35', 'Program 41', '500 Fox Series', '501 Fox Series Oeste', '502 Fox Action', '503 Fox Cinema', '504 Fox Movies', '505 Fox Family', '506 Fox Classics', '507 Discovery Turbo', '508 Nat Geo Kids', '509 Fox Comedy', '510 Baby TV', 'RM10  Grandes Cantantes', 'RM11 Ellos', 'RM12 Ellas', 'RM13 Vivo', 'RM14 Disco', 'RM15 New Party Radio', 'RM16 Retro Mix', 'RM17 Rock Nacional', 'RM18 Grandes del Rock']\n"
     ]
    },
    {
     "name": "stderr",
     "output_type": "stream",
     "text": [
      "Socket exception: Se ha forzado la interrupción de una conexión existente por el host remoto (10054)\n",
      "Socket exception: Se ha forzado la interrupción de una conexión existente por el host remoto (10054)\n",
      "Socket exception: Se ha forzado la interrupción de una conexión existente por el host remoto (10054)\n",
      "Socket exception: Se ha forzado la interrupción de una conexión existente por el host remoto (10054)\n",
      "Socket exception: Se ha forzado la interrupción de una conexión existente por el host remoto (10054)\n",
      "Socket exception: Se ha forzado la interrupción de una conexión existente por el host remoto (10054)\n",
      "Socket exception: Se ha forzado la interrupción de una conexión existente por el host remoto (10054)\n",
      "Socket exception: Se ha forzado la interrupción de una conexión existente por el host remoto (10054)\n",
      "Socket exception: Se ha forzado la interrupción de una conexión existente por el host remoto (10054)\n",
      "Socket exception: Se ha forzado la interrupción de una conexión existente por el host remoto (10054)\n",
      "Socket exception: Se ha forzado la interrupción de una conexión existente por el host remoto (10054)\n",
      "Socket exception: Se ha forzado la interrupción de una conexión existente por el host remoto (10054)\n",
      "Socket exception: Se ha forzado la interrupción de una conexión existente por el host remoto (10054)\n"
     ]
    }
   ],
   "source": [
    "# Test de comando SSH al DCM1.SLO1-BB - 10.230.60.5\n",
    "# Verificar estar conectado a Boromir\n",
    "# Ejemplos paramiko: https://programmerclick.com/article/63591108981/\n",
    "\n",
    "import paramiko\n",
    "import re\n",
    "\n",
    "p = paramiko.SSHClient()\n",
    "p.set_missing_host_key_policy(paramiko.AutoAddPolicy())   \n",
    "p.connect(\"10.230.60.5\", port=22, username=\"zabbix\", password=\"zabbix\")\n",
    "#stdin, stdout, stderr = p.exec_command(\"ls /settings/*/TsOutSettings.xml\")\n",
    "#stdin, stdout, stderr = p.exec_command(\"cat /settings/board4/TsOutSettings.xml\")\n",
    "stdin, stdout, stderr = p.exec_command(\"cat /settings/*/TsOutSettings.xml\")\n",
    "opt = stdout.readlines()\n",
    "opt = \"\".join(opt)\n",
    "print(re.findall(r'(?<=<m_AcquisitionPointId>).*?(?=</m_AcquisitionPointId>(?! box))', opt))"
   ]
  }
 ],
 "metadata": {
  "interpreter": {
   "hash": "77a2971d8cded735c3786a6d5317d5bf2db44212f9ba0327f196cf416215be1d"
  },
  "kernelspec": {
   "display_name": "Python 3.10.1 64-bit ('.automations': venv)",
   "language": "python",
   "name": "python3"
  },
  "language_info": {
   "codemirror_mode": {
    "name": "ipython",
    "version": 3
   },
   "file_extension": ".py",
   "mimetype": "text/x-python",
   "name": "python",
   "nbconvert_exporter": "python",
   "pygments_lexer": "ipython3",
   "version": "3.10.1"
  },
  "orig_nbformat": 4
 },
 "nbformat": 4,
 "nbformat_minor": 2
}
