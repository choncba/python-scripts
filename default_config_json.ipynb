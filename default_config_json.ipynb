{
 "cells": [
  {
   "cell_type": "code",
   "execution_count": 72,
   "metadata": {},
   "outputs": [
    {
     "name": "stdout",
     "output_type": "stream",
     "text": [
      "Configuracion Cargada en  ../config.json\n",
      "{'config_file': '../config.json', 'SCHEDULE_TIME_MINUTES': 1, 'DISCORD_ENABLE_BOT': False, 'DISCORD_WEBHOOK_URL': 'SOME_URL', 'DISCORD_USERNAME': 'Juan', 'DISCORD_AVATAR_URL': 'SOME_AVATAR_URL'}\n",
      "Configuracion Guardada en  ../config.json\n",
      "Configuracion Cargada en  ../config.json\n",
      "{'config_file': '../config.json', 'SCHEDULE_TIME_MINUTES': 1, 'DISCORD_ENABLE_BOT': False, 'DISCORD_WEBHOOK_URL': 'SOME_URL', 'DISCORD_USERNAME': 'Juan', 'DISCORD_AVATAR_URL': 'SOME_AVATAR_URL', 'Test': 'IT WORKS'}\n"
     ]
    }
   ],
   "source": [
    "import json\n",
    "\n",
    "CONFIG_FILE = \"../config.json\"\n",
    "\n",
    "class DefaultConfig(object):\n",
    "    '''\n",
    "    Clase que permite la lectura y escritura de un archivo de configuración JSON\n",
    "    Las variables del archivo JSON se agregan automáticamente como objetos de la instancia, \n",
    "    lo que nos permite llamarlos o cambiarlos invocando directamente la instancia.\n",
    "    Métodos:\n",
    "    set_default_config()\n",
    "    load_config()\n",
    "    save_config()\n",
    "    show_config()\n",
    "    add_config()\n",
    "    remove_config()\n",
    "    Uso:\n",
    "    config = DefaultConfig() --> Carga el archivo de configuración por defecto, si no existe, lo crea\n",
    "    config = DefaultConfig(\"./config.json\") --> Carga el archivo de configuración especificado, si no existe, lo crea\n",
    "    '''\n",
    "\n",
    "    # Atributos de clase - Valores por defecto\n",
    "    default_config_file = \"./config.json\"\n",
    "    default_config = {\n",
    "        \"SCHEDULE_TIME_MINUTES\": 1,\n",
    "        \"DISCORD_ENABLE_BOT\": False,\n",
    "        \"DISCORD_WEBHOOK_URL\": \"SOME_URL\",\n",
    "        \"DISCORD_USERNAME\": \"SOME_USERNAME\",\n",
    "        \"DISCORD_AVATAR_URL\": \"SOME_AVATAR_URL\"\n",
    "    }\n",
    "    \n",
    "    def __init__(self,conf=None):\n",
    "        if conf is not None:\n",
    "            self.config_file = conf\n",
    "            self.load_config()\n",
    "        else:\n",
    "            self.config_file = self.default_config_file\n",
    "            self.set_default_config()\n",
    "\n",
    "    def set_default_config(self):\n",
    "        print(\"Configuracion por defecto en \", self.config_file)\n",
    "        self.__dict__.update(self.default_config)   # Esto agrega los valores por defecto a la instancia de la clase\n",
    "        self.save_config()\n",
    "        self.show_config()        \n",
    "\n",
    "    def load_config(self):\n",
    "        try:\n",
    "            with open(self.config_file, \"r\") as conf:\n",
    "                try:\n",
    "                    json_key_values = json.load(conf)\n",
    "                    self.__dict__.update(json_key_values)   # Esto agrega los valores del JSON a la instancia de la clase\n",
    "                    self.show_config()\n",
    "                except json.decoder.JSONDecodeError:\n",
    "                    print(\"Error al cargar el archivo de configuración\")\n",
    "        except FileNotFoundError:\n",
    "            print(\"No se encontró el archivo de configuración \",self.config_file)\n",
    "            self.set_default_config()\n",
    "\n",
    "    def save_config(self):\n",
    "        with open(self.config_file, \"w\") as conf:\n",
    "            settings = self.__dict__.copy()         # Copio el dict de la clase\n",
    "            settings.pop(\"config_file\", None)       # Elimino la clave config_file del dict para que no aparezca en el JSON\n",
    "            json.dump(settings, conf, indent= 4)\n",
    "        print(\"Configuracion Guardada en \", self.config_file)\n",
    "\n",
    "    def show_config(self):\n",
    "        print(\"Configuracion Cargada en \", self.config_file)\n",
    "        print(self.__dict__)\n",
    "\n",
    "    def add_config(self,key,value):\n",
    "        self.__dict__[key] = value\n",
    "        self.save_config()\n",
    "        self.show_config()\n",
    "\n",
    "    def remove_config(self,key):\n",
    "        self.__dict__.pop(key, None)\n",
    "        self.save_config()\n",
    "        self.show_config()\n",
    "\n",
    "config = DefaultConfig(CONFIG_FILE)\n",
    "config.add_config(\"Test\",\"IT WORKS\")\n",
    "# print(config.DISCORD_USERNAME)\n",
    "# config.DISCORD_USERNAME = \"Pepe\"\n",
    "# config.save_config()\n",
    "# config.show_config()\n",
    "# print(config.DISCORD_USERNAME)"
   ]
  },
  {
   "cell_type": "code",
   "execution_count": 73,
   "metadata": {},
   "outputs": [
    {
     "name": "stdout",
     "output_type": "stream",
     "text": [
      "default\n"
     ]
    }
   ],
   "source": [
    "class test(object):\n",
    "    \n",
    "    def __init__(self, parameter=None):\n",
    "        if parameter is not None:\n",
    "            self.inst_attr = parameter\n",
    "            self.print1()\n",
    "        else:\n",
    "            self.set_default()\n",
    "            self.print1()\n",
    "\n",
    "    def set_default(self):\n",
    "        self.inst_attr = \"default\"\n",
    "\n",
    "    def print1(self):\n",
    "        self.print2()\n",
    "    \n",
    "    def print2(self):\n",
    "        print(self.inst_attr)\n",
    "    \n",
    "prueba = test()"
   ]
  }
 ],
 "metadata": {
  "interpreter": {
   "hash": "77a2971d8cded735c3786a6d5317d5bf2db44212f9ba0327f196cf416215be1d"
  },
  "kernelspec": {
   "display_name": "Python 3.10.1 64-bit ('.automations': venv)",
   "language": "python",
   "name": "python3"
  },
  "language_info": {
   "codemirror_mode": {
    "name": "ipython",
    "version": 3
   },
   "file_extension": ".py",
   "mimetype": "text/x-python",
   "name": "python",
   "nbconvert_exporter": "python",
   "pygments_lexer": "ipython3",
   "version": "3.10.1"
  },
  "orig_nbformat": 4
 },
 "nbformat": 4,
 "nbformat_minor": 2
}
